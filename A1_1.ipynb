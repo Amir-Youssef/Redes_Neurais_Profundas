{
  "nbformat": 4,
  "nbformat_minor": 0,
  "metadata": {
    "colab": {
      "provenance": []
    },
    "kernelspec": {
      "name": "python3",
      "display_name": "Python 3"
    },
    "language_info": {
      "name": "python"
    }
  },
  "cells": [
    {
      "cell_type": "code",
      "execution_count": null,
      "metadata": {
        "id": "pJuRI4T-tKUt"
      },
      "outputs": [],
      "source": [
        "import numpy as np\n",
        "import matplotlib.pyplot as plt"
      ]
    },
    {
      "cell_type": "markdown",
      "source": [
        "\n",
        "Funções Lineares<br>\n",
        "Usaremos o termo equação linear para significar uma soma ponderada de entradas mais um deslocamento. Se houver apenas uma entrada $x$, então esta é uma linha reta:\n",
        "\n",
        "\\begin{equation}y=\\beta+\\omega x,\\end{equation}\n",
        "\n",
        "onde $\\beta$ é a interseção do eixo y com a reta e $\\omega$ é a inclinação da reta. Quando existem duas entradas $x_{1}$ e $x_{2}$, então isso se torna:\n",
        "\n",
        "\\begin{equation}y=\\beta+\\omega_1 x_1 + \\omega_2 x_2.\\end{equation}\n",
        "\n",
        "Outras funções são, por definição, não-lineares."
      ],
      "metadata": {
        "id": "sHY7YZGEu_73"
      }
    },
    {
      "cell_type": "code",
      "source": [
        "# Defina uma função linear com apenas uma entrada, x\n",
        "def linear_function_1D(x,beta,omega):\n",
        "  # TODO -- substitua a linha de código abaixo pela fórmula para a equação linear 1D\n",
        "  y = x\n",
        "\n",
        "  return y"
      ],
      "metadata": {
        "id": "s5UH5cTauodR"
      },
      "execution_count": null,
      "outputs": []
    },
    {
      "cell_type": "code",
      "source": [
        "# Plotar a função linear 1D\n",
        "\n",
        "# Definir um vetor de valores x de 0 a 10 com incrementos de 0.01\n",
        "# https://numpy.org/doc/stable/reference/generated/numpy.arange.html\n",
        "x = np.arange(0.0,10.0, 0.01)\n",
        "# Calcular y usando a função que você preencheu acima\n",
        "beta = 0.0; omega = 1.0\n",
        "\n",
        "y = linear_function_1D(x,beta,omega)\n",
        "\n",
        "# Plotar esta função\n",
        "fig, ax = plt.subplots()\n",
        "ax.plot(x,y,'r-')\n",
        "ax.set_ylim([0,10]);ax.set_xlim([0,10])\n",
        "ax.set_xlabel('x'); ax.set_ylabel('y')\n",
        "plt.show\n",
        "\n",
        "# TODO -- experimente mudar os valores de beta e omega\n",
        "# para entender o que eles fazem. Tente fazer uma linha\n",
        "# que cruza o eixo y em y=10 e o eixo x em x=5"
      ],
      "metadata": {
        "id": "fY09MaGQw01P"
      },
      "execution_count": null,
      "outputs": []
    },
    {
      "cell_type": "markdown",
      "source": [
        "Agora vamos investigar uma função linear 2D"
      ],
      "metadata": {
        "id": "-p-KVMzUxImh"
      }
    },
    {
      "cell_type": "code",
      "source": [
        "# Código para desenhar a função 2D - leia para entender o que está acontecendo, mas você não precisa alterá-lo\n",
        "def draw_2D_function(x1_mesh, x2_mesh, y):\n",
        "    fig, ax = plt.subplots()\n",
        "    fig.set_size_inches(7,7)\n",
        "    pos = ax.contourf(x1_mesh, x2_mesh, y, levels=256 ,cmap = 'hot', vmin=-10,vmax=10.0)\n",
        "    fig.colorbar(pos, ax=ax)\n",
        "    ax.set_xlabel('x1');ax.set_ylabel('x2')\n",
        "    levels = np.arange(-10,10,1.0)\n",
        "    ax.contour(x1_mesh, x2_mesh, y, levels, cmap='winter')\n",
        "    plt.show()"
      ],
      "metadata": {
        "id": "3WS8fFQTxJsF"
      },
      "execution_count": null,
      "outputs": []
    },
    {
      "cell_type": "code",
      "source": [
        "# Definir uma função linear com duas entradas, x1 e x2\n",
        "def linear_function_2D(x1, x2, beta, omega1, omega2):\n",
        "  # TODO -- substitua a linha de código abaixo pela fórmula para a equação linear 2D\n",
        "  y = x1\n",
        "\n",
        "  return y"
      ],
      "metadata": {
        "id": "XK1QxyYJxVzp"
      },
      "execution_count": null,
      "outputs": []
    },
    {
      "cell_type": "code",
      "source": [
        "# Plotar a função 2D\n",
        "\n",
        "# Criar matriz 2D de pontos x e y\n",
        "x1 = np.arange(0.0, 10.0, 0.1)\n",
        "x2 = np.arange(0.0, 10.0, 0.1)\n",
        "x1, x2 = np.meshgrid(x1, x2)  # https://www.geeksforgeeks.org/numpy-meshgrid-function/\n",
        "\n",
        "# Calcular a função 2D para valores dados de omega1, omega2\n",
        "beta = 0.0; omega1 = 1.0; omega2 = -0.5\n",
        "y = linear_function_2D(x1, x2, beta, omega1, omega2)\n",
        "\n",
        "# Desenhar a função.\n",
        "# A cor representa o valor de y (mais brilhante = valor mais alto)\n",
        "# Preto = -10 ou menos, Branco = +10 ou mais\n",
        "# 0 = laranja médio\n",
        "# As linhas são contornos onde o valor é igual\n",
        "draw_2D_function(x1, x2, y)\n",
        "\n",
        "# TODO\n",
        "# Preveja como será este gráfico se você definir omega_1 como zero\n",
        "# Mude o código e veja se você está certo.\n",
        "\n",
        "# TODO\n",
        "# Preveja como será este gráfico se você definir omega_2 como zero\n",
        "# Mude o código e veja se você está certo.\n",
        "\n",
        "# TODO\n",
        "# Preveja como será este gráfico se você definir beta como -5\n",
        "# Mude o código e veja se você está correto"
      ],
      "metadata": {
        "id": "bYI7-d_HxW5N"
      },
      "execution_count": null,
      "outputs": []
    },
    {
      "cell_type": "markdown",
      "source": [
        "\n",
        "Frequentemente, queremos calcular muitas funções lineares ao mesmo tempo. Por exemplo, podemos ter três entradas, $x_1$, $x_2$ e $x_3$, e queremos calcular duas funções lineares fornecendo $y_1$ e $y_2$. Claro, poderíamos fazer isso executando cada equação separadamente,\n",
        "\n",
        "\\begin{align}\n",
        "y_1 &= \\beta_1 + \\omega_{11} x_1 + \\omega_{12} x_2 + \\omega_{13} x_3\\\\\n",
        "y_2 &= \\beta_2 + \\omega_{21} x_1 + \\omega_{22} x_2 + \\omega_{23} x_3.\n",
        "\\end{align}\n",
        "\n",
        "No entanto, podemos escrever de forma mais compacta com vetores e matrizes:\n",
        "\n",
        "\\begin{equation}\n",
        "\\begin{bmatrix} y_1\\\\ y_2 \\end{bmatrix} = \\begin{bmatrix}\\beta_{1}\\\\\\beta_{2}\\end{bmatrix}+ \\begin{bmatrix}\\omega_{11}&\\omega_{12}&\\omega_{13}\\\\\\omega_{21}&\\omega_{22}&\\omega_{23}\\end{bmatrix}\\begin{bmatrix}x_{1}\\\\x_{2}\\\\x_{3}\\end{bmatrix},\n",
        "\\end{equation}\n",
        "ou\n",
        "\n",
        "\\begin{equation}\n",
        "\\mathbf{y} = \\boldsymbol\\beta +\\boldsymbol\\Omega\\mathbf{x}.\n",
        "\\end{equation}\n",
        "\n",
        "para abreviar. Aqui, símbolos em negrito minúsculo são usados para vetores. Símbolos em negrito maiúsculo são usados para matrizes."
      ],
      "metadata": {
        "id": "8q9t1Z7qx928"
      }
    },
    {
      "cell_type": "code",
      "source": [
        "# Definir uma função linear com três entradas, x1, x2 e x_3\n",
        "def linear_function_3D(x1, x2, x3, beta, omega1, omega2, omega3):\n",
        "  # TODO -- substituir o código abaixo pela fórmula para uma única equação linear 3D\n",
        "  y = x1\n",
        "\n",
        "  return y"
      ],
      "metadata": {
        "id": "V7VTW-ZAx_XS"
      },
      "execution_count": null,
      "outputs": []
    },
    {
      "cell_type": "markdown",
      "source": [
        "Vamos calcular duas equações lineares. Vamos usar tanto as equações individuais quanto a forma de vetor/matrizes, e verificar se fornecem o mesmo resultado."
      ],
      "metadata": {
        "id": "mtoh6VBjzfJV"
      }
    },
    {
      "cell_type": "code",
      "source": [
        "# Definir os parâmetros\n",
        "beta1 = 0.5; beta2 = 0.2\n",
        "omega11 = -1.0; omega12 = 0.4; omega13 = -0.3\n",
        "omega21 = 0.1; omega22 = 0.1; omega23 = 1.2\n",
        "\n",
        "# Definir as entradas\n",
        "x1 = 4; x2 = -1; x3 = 2\n",
        "\n",
        "# Calcular usando as equações individuais\n",
        "y1 = linear_function_3D(x1, x2, x3, beta1, omega11, omega12, omega13)\n",
        "y2 = linear_function_3D(x1, x2, x3, beta2, omega21, omega22, omega23)\n",
        "print(\"Equações individuais\")\n",
        "print('y1 = %3.3f\\ny2 = %3.3f' % (y1, y2))\n",
        "\n",
        "# Definir vetores e matrizes\n",
        "beta_vec = np.array([[beta1], [beta2]])\n",
        "omega_mat = np.array([[omega11, omega12, omega13], [omega21, omega22, omega23]])\n",
        "x_vec = np.array([[x1], [x2], [x3]])\n",
        "\n",
        "# Calcular com forma de vetores/matrizes\n",
        "y_vec = beta_vec + np.matmul(omega_mat, x_vec)\n",
        "print(\"Forma de matriz/vetor\")\n",
        "print('y1 = %3.3f\\ny2 = %3.3f' % (y_vec[0], y_vec[1]))"
      ],
      "metadata": {
        "id": "5p5zV_JpzgnS"
      },
      "execution_count": null,
      "outputs": []
    },
    {
      "cell_type": "markdown",
      "source": [
        "# Perguntas\n",
        "\n",
        "1. Uma única equação linear com três entradas (ou seja, **linear_function_3D()**) associa um valor y a cada ponto em um espaço 3D ($x_1$,$x_2$,$x_3$). É possível visualizar isso? Qual valor está na posição (0,0,0)?\n",
        "\n",
        "2. Escreva o código (agora utilizando a biblioteca pytorch) para calcular três equações lineares com duas entradas ($x_1$, $x_2$) usando tanto as equações individuais quanto a forma de matriz (você pode inventar qualquer valor para as entradas $\\beta_{i}$ e as inclinações $\\omega_{ij}$)."
      ],
      "metadata": {
        "id": "AOF7qGs30bBC"
      }
    },
    {
      "cell_type": "code",
      "source": [],
      "metadata": {
        "id": "UL9Cx_I20eSr"
      },
      "execution_count": null,
      "outputs": []
    },
    {
      "cell_type": "markdown",
      "source": [
        "# Funções Especiais\n",
        "\n",
        "Ao longo do livro, estaremos utilizando algumas funções especiais (consulte o Apêndice B.1.3). As mais importantes destas são as funções logarítmica e exponencial. Vamos investigar suas propriedades.\n",
        "\n",
        "Começaremos com a função exponencial $y=\\exp[x]=e^x$, que mapeia a reta real $[-\\infty,+\\infty]$ para números não negativos $[0,+\\infty]$."
      ],
      "metadata": {
        "id": "skUAFUuw1RFQ"
      }
    },
    {
      "cell_type": "code",
      "source": [
        "# Desenhar a função exponencial\n",
        "\n",
        "# Definir um vetor de valores x de -5 a 5 com incrementos de 0.01\n",
        "x = np.arange(-5.0, 5.0, 0.01)\n",
        "y = np.exp(x)\n",
        "\n",
        "# Plotar esta função\n",
        "fig, ax = plt.subplots()\n",
        "ax.plot(x, y, 'r-')\n",
        "ax.set_ylim([0, 100])\n",
        "ax.set_xlim([-5, 5])\n",
        "ax.set_xlabel('x')\n",
        "ax.set_ylabel('exp[x]')\n",
        "plt.show()"
      ],
      "metadata": {
        "id": "EuYRnfFk1SCA"
      },
      "execution_count": null,
      "outputs": []
    },
    {
      "cell_type": "markdown",
      "source": [
        "# Perguntas\n",
        "\n",
        "1. Qual é o valor de $\\exp[0]$?  \n",
        "2. Qual é o valor de $\\exp[1]$?\n",
        "3. Qual é o valor de $\\exp[-\\infty]$?\n",
        "4. Qual é o valor de $\\exp[+\\infty]$?\n",
        "5. Uma função é convexa se pudermos desenhar uma linha reta entre quaisquer dois pontos na função, e a linha fica acima da função em todos os lugares entre esses dois pontos. Da mesma forma, uma função é côncava se uma linha reta entre quaisquer dois pontos fica abaixo da função em todos os lugares entre esses dois pontos. A função exponencial é convexa, côncava ou nenhuma das duas?"
      ],
      "metadata": {
        "id": "GwAZg61g12fG"
      }
    },
    {
      "cell_type": "code",
      "source": [],
      "metadata": {
        "id": "txO1_KRC2XFN"
      },
      "execution_count": null,
      "outputs": []
    },
    {
      "cell_type": "markdown",
      "source": [
        "Agora vamos considerar a função logarítmica $y=\\log[x]$. Ao longo do livro, sempre usamos logaritmos naturais (base $e$). A função logarítmica mapeia números não negativos $[0,\\infty]$ para números reais $[-\\infty,\\infty]$. É o inverso da função exponencial. Então, quando calculamos $\\log[x]$, estamos realmente perguntando \"Qual é o número $y$ tal que $e^y=x$?\""
      ],
      "metadata": {
        "id": "W2ZfdINu2Uhk"
      }
    },
    {
      "cell_type": "code",
      "source": [
        "# Desenhar a função logarítmica\n",
        "\n",
        "# Definir um vetor de valores x de -5 a 5 com incrementos de 0.01\n",
        "x = np.arange(0.01, 5.0, 0.01)\n",
        "y = np.log(x)\n",
        "\n",
        "# Plotar esta função\n",
        "fig, ax = plt.subplots()\n",
        "ax.plot(x, y, 'r-')\n",
        "ax.set_ylim([-5, 5])\n",
        "ax.set_xlim([0, 5])\n",
        "ax.set_xlabel('x')\n",
        "ax.set_ylabel('$\\log[x]$')\n",
        "plt.show()"
      ],
      "metadata": {
        "id": "V3Ojy4KQ13O2"
      },
      "execution_count": null,
      "outputs": []
    },
    {
      "cell_type": "markdown",
      "source": [
        "# Perguntas\n",
        "\n",
        "1. Qual é o valor de $\\log[0]$?  \n",
        "2. Qual é o valor de $\\log[1]$?\n",
        "3. Qual é o valor de $\\log[e]$?\n",
        "4. Qual é o valor de $\\log[\\exp[3]]$?\n",
        "5. Qual é o valor de $\\exp[\\log[4]]$?\n",
        "6. Qual é o valor de $\\log[-1]$?\n",
        "7. A função logarítmica é côncava ou convexa?"
      ],
      "metadata": {
        "id": "0M6fkxq43N8P"
      }
    },
    {
      "cell_type": "code",
      "source": [],
      "metadata": {
        "id": "PilkccVs3duX"
      },
      "execution_count": null,
      "outputs": []
    }
  ]
}