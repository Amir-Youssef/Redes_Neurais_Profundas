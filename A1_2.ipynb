{
  "nbformat": 4,
  "nbformat_minor": 0,
  "metadata": {
    "colab": {
      "provenance": []
    },
    "kernelspec": {
      "name": "python3",
      "display_name": "Python 3"
    },
    "language_info": {
      "name": "python"
    }
  },
  "cells": [
    {
      "cell_type": "code",
      "execution_count": null,
      "metadata": {
        "id": "93OAAtDP5hQF"
      },
      "outputs": [],
      "source": [
        "import numpy as np\n",
        "import matplotlib.pyplot as plt"
      ]
    },
    {
      "cell_type": "code",
      "source": [
        "# Criar alguns dados de entrada/saída\n",
        "x = np.array([0.03, 0.19, 0.34, 0.46, 0.78, 0.81, 1.08, 1.18, 1.39, 1.60, 1.65, 1.90])\n",
        "y = np.array([0.67, 0.85, 1.05, 1.0, 1.40, 1.5, 1.3, 1.54, 1.55, 1.68, 1.73, 1.6])\n",
        "\n",
        "print(x)\n",
        "print(y)"
      ],
      "metadata": {
        "id": "Jjuv18cX53Dz"
      },
      "execution_count": null,
      "outputs": []
    },
    {
      "cell_type": "code",
      "source": [
        "# Definir modelo de regressão linear 1D\n",
        "def f(x, phi0, phi1):\n",
        "  # TODO :  Substitua esta linha pelo modelo de regressão linear (eq 2.4 no livro)\n",
        "  y = x\n",
        "\n",
        "  return y"
      ],
      "metadata": {
        "id": "daoUmOEA5-hG"
      },
      "execution_count": null,
      "outputs": []
    },
    {
      "cell_type": "code",
      "source": [
        "# Função para ajudar a plotar os dados\n",
        "def plot(x, y, phi0, phi1):\n",
        "    fig, ax = plt.subplots()\n",
        "    ax.scatter(x, y)\n",
        "    plt.xlim([0, 2.0])\n",
        "    plt.ylim([0, 2.0])\n",
        "    ax.set_xlabel('Entrada, $x$')\n",
        "    ax.set_ylabel('Saída, $y$')\n",
        "    # Desenhar linha\n",
        "    x_line = np.arange(0, 2, 0.01)\n",
        "    y_line = f(x_line, phi0, phi1)\n",
        "    plt.plot(x_line, y_line, 'b-', lw=2)\n",
        "\n",
        "    plt.show()"
      ],
      "metadata": {
        "id": "Vo8HTDU-6KSh"
      },
      "execution_count": null,
      "outputs": []
    },
    {
      "cell_type": "code",
      "source": [
        "# Definir o coeficiente linear e o angular conforme a figura 2.2b no livro\n",
        "phi0 = 0.4\n",
        "phi1 = 0.2\n",
        "# Plotar os dados e o modelo\n",
        "plot(x, y, phi0, phi1)"
      ],
      "metadata": {
        "id": "Jl8Puf6e6R8t"
      },
      "execution_count": null,
      "outputs": []
    },
    {
      "cell_type": "code",
      "source": [
        "# Função para calcular a perda\n",
        "def compute_loss(x, y, phi0, phi1):\n",
        "\n",
        "  # TODO Substitua esta linha pelo cálculo da perda (equação 2.5 no livro)\n",
        "  loss = 0\n",
        "\n",
        "  return loss"
      ],
      "metadata": {
        "id": "dpERTYl46gPs"
      },
      "execution_count": null,
      "outputs": []
    },
    {
      "cell_type": "code",
      "source": [
        "# Calcular a perda para nosso modelo atual\n",
        "loss = compute_loss(x, y, phi0, phi1)\n",
        "print(f'Sua Perda = {loss:3.2f}, Valor esperado = 7.07')"
      ],
      "metadata": {
        "id": "TOM6TM106nfo"
      },
      "execution_count": null,
      "outputs": []
    },
    {
      "cell_type": "code",
      "source": [
        "# Definir o coeficiente linear e o angular conforme a figura 2.2c no livro\n",
        "phi0 = 1.60\n",
        "phi1 = -0.8\n",
        "# Plotar os dados e o modelo\n",
        "plot(x, y, phi0, phi1)\n",
        "loss = compute_loss(x, y, phi0, phi1)\n",
        "print(f'Sua Perda = {loss:3.2f}, Valor esperado = 10.28')"
      ],
      "metadata": {
        "id": "hFeQfakI6vvX"
      },
      "execution_count": null,
      "outputs": []
    },
    {
      "cell_type": "code",
      "source": [
        "# TODO -- Altere os parâmetros manualmente para ajustar o modelo\n",
        "# Primeiro, corrija phi1 e tente alterar phi0 até não conseguir reduzir mais a perda\n",
        "# Em seguida, corrija phi0 e tente alterar phi1 até não conseguir reduzir mais a perda\n",
        "# Repita este processo até encontrar um conjunto de parâmetros que ajuste o modelo como na figura 2.2d\n",
        "# Você pode fazer isso manualmente ou, se quiser ser sofisticado, escreva um código para fazer a descida automaticamente dessa forma\n",
        "# Comece com estes valores:\n",
        "phi0 = 1.60; phi1 = -0.8\n",
        "\n",
        "plot(x, y, phi0, phi1)\n",
        "print(f'Sua Perda = {compute_loss(x, y, phi0, phi1):3.2f}')"
      ],
      "metadata": {
        "id": "6sKSyC0Y6-si"
      },
      "execution_count": null,
      "outputs": []
    },
    {
      "cell_type": "markdown",
      "source": [
        "# Visualizando a função de perda\n",
        "\n",
        "O processo acima é equivalente a descer coordenada a coordenada na função de perda.\n",
        "\n",
        "Agora vamos plotar essa função."
      ],
      "metadata": {
        "id": "6ETTj4aK7I-l"
      }
    },
    {
      "cell_type": "code",
      "source": [
        "# Criar uma matriz 2D de valores possíveis de phi0 e phi1\n",
        "phi0_mesh, phi1_mesh = np.meshgrid(np.arange(0.0, 2.0, 0.02), np.arange(-1.0, 1.0, 0.02))\n",
        "\n",
        "# Criar uma matriz 2D para as perdas\n",
        "all_losses = np.zeros_like(phi1_mesh)\n",
        "# Percorrer cada combinação 2D de phi0, phi1 e calcular a perda\n",
        "for indices, _ in np.ndenumerate(phi1_mesh):\n",
        "    all_losses[indices] = compute_loss(x, y, phi0_mesh[indices], phi1_mesh[indices])"
      ],
      "metadata": {
        "id": "7p94_zBB7cKV"
      },
      "execution_count": null,
      "outputs": []
    },
    {
      "cell_type": "code",
      "source": [
        "# Plotar a função de perda como um mapa de calor\n",
        "fig = plt.figure()\n",
        "ax = plt.axes()\n",
        "fig.set_size_inches(7, 7)\n",
        "levels = 256\n",
        "ax.contourf(phi0_mesh, phi1_mesh, all_losses, levels)\n",
        "levels = 40\n",
        "ax.contour(phi0_mesh, phi1_mesh, all_losses, levels, colors=['#80808080'])\n",
        "ax.set_ylim([1, -1])\n",
        "ax.set_xlabel('Intercept, $\\phi_0$')\n",
        "ax.set_ylabel('Slope, $\\phi_1$')\n",
        "\n",
        "# Plotar a posição da sua melhor linha de ajuste na função de perda\n",
        "# Deve estar perto do mínimo\n",
        "ax.plot(phi0, phi1, 'ro')\n",
        "plt.show()"
      ],
      "metadata": {
        "id": "hg1mFafx7nyu"
      },
      "execution_count": null,
      "outputs": []
    }
  ]
}