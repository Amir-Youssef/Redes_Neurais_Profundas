{
  "nbformat": 4,
  "nbformat_minor": 0,
  "metadata": {
    "colab": {
      "provenance": []
    },
    "kernelspec": {
      "name": "python3",
      "display_name": "Python 3"
    },
    "language_info": {
      "name": "python"
    }
  },
  "cells": [
    {
      "cell_type": "code",
      "execution_count": null,
      "metadata": {
        "id": "hDHO3hM1OfPW"
      },
      "outputs": [],
      "source": [
        "import numpy as np\n",
        "import matplotlib.pyplot as plt"
      ]
    },
    {
      "cell_type": "code",
      "source": [
        "# Defina a função Rectified Linear Unit (ReLU)\n",
        "def ReLU(preactivation):\n",
        "  # TODO: utilize a implementação do notebook anterior\n",
        "  activation = 0.\n",
        "  return activation"
      ],
      "metadata": {
        "id": "prtw-DftO7wi"
      },
      "execution_count": null,
      "outputs": []
    },
    {
      "cell_type": "code",
      "source": [
        "# Definir uma rede neural rasa com uma entrada, uma saída e três unidades ocultas\n",
        "def shallow_1_1_3(x, activation_fn, phi_0,phi_1,phi_2,phi_3, theta_10, theta_11, theta_20, theta_21, theta_30, theta_31):\n",
        "  # TODO: utilize a implementação do notebook anterior\n",
        "\n",
        "  # Retornar tudo o que calculamos\n",
        "  return y, pre_1, pre_2, pre_3, act_1, act_2, act_3, w_act_1, w_act_2, w_act_3"
      ],
      "metadata": {
        "id": "bPrDo63mPGXm"
      },
      "execution_count": null,
      "outputs": []
    },
    {
      "cell_type": "code",
      "source": [
        "# # Plote a rede neural rasa. Vamos assumir que a entrada está no intervalo [-1,1] e a saída [-1,1]\n",
        "def plot_neural(x, y):\n",
        "  fig, ax = plt.subplots()\n",
        "  ax.plot(x.T,y.T)\n",
        "  ax.set_xlabel('Entrada'); ax.set_ylabel('Saída')\n",
        "  ax.set_xlim([-1,1]);ax.set_ylim([-1,1])\n",
        "  ax.set_aspect(1.0)\n",
        "  plt.show()"
      ],
      "metadata": {
        "id": "S0FSNVKWPQvk"
      },
      "execution_count": null,
      "outputs": []
    },
    {
      "cell_type": "markdown",
      "source": [
        "Vamos definir uma rede. Vamos apenas considerar as entradas e saídas no intervalo [-1,1]."
      ],
      "metadata": {
        "id": "owd1YOyNPYXl"
      }
    },
    {
      "cell_type": "code",
      "source": [
        "# Agora vamos definir alguns parâmetros e executar a primeira rede neural\n",
        "n1_theta_10 = 0.0   ; n1_theta_11 = -1.0\n",
        "n1_theta_20 = 0     ; n1_theta_21 = 1.0\n",
        "n1_theta_30 = -0.67 ; n1_theta_31 =  1.0\n",
        "n1_phi_0 = 1.0; n1_phi_1 = -2.0; n1_phi_2 = -3.0; n1_phi_3 = 9.3\n",
        "\n",
        "# Defina uma faixa de valores de entrada\n",
        "n1_in = np.arange(-1,1,0.01).reshape([1,-1])\n",
        "\n",
        "# Rodamos a rede neural para cada um desses valores de entrada\n",
        "n1_out, *_ = shallow_1_1_3(n1_in, ReLU, n1_phi_0, n1_phi_1, n1_phi_2, n1_phi_3, n1_theta_10, n1_theta_11, n1_theta_20, n1_theta_21, n1_theta_30, n1_theta_31)\n",
        "# E então plotamos\n",
        "plot_neural(n1_in, n1_out)"
      ],
      "metadata": {
        "id": "VufEzoTcPRsy"
      },
      "execution_count": null,
      "outputs": []
    },
    {
      "cell_type": "markdown",
      "source": [
        "Agora vamos definir a mesma rede neural, mas desta vez, vamos usar a forma matricial. Quando você fizer isso corretamente, ele desenhará o mesmo gráfico que acima."
      ],
      "metadata": {
        "id": "i590ZnTkPlZo"
      }
    },
    {
      "cell_type": "code",
      "source": [
        "beta_0 = np.zeros((3,1))\n",
        "Omega_0 = np.zeros((3,1))\n",
        "beta_1 = np.zeros((1,1))\n",
        "Omega_1 = np.zeros((1,3))\n",
        "\n",
        "# TODO Preencha os valores das matrizes beta e Omega com os parâmetros n1_theta e n1_phi que definem a rede acima\n",
        "# !!! OBSERVE QUE AS MATRIZES SÃO CONVENCIONALMENTE INDEXADAS COM a_11 NO CANTO SUPERIOR ESQUERDO, MAS NDARRAYS COMEÇAM EM [0,0]\n",
        "# Para começar, eu já preenchi algumas:\n",
        "beta_0[0,0] = n1_theta_10\n",
        "Omega_0[0,0] = n1_theta_11\n",
        "\n",
        "# Certifique-se de que a matriz de dados de entrada tenha entradas diferentes em suas colunas\n",
        "n_data = n1_in.size\n",
        "n_dim_in = 1\n",
        "n1_in_mat = np.reshape(n1_in,(n_dim_in,n_data))\n",
        "\n",
        "# Isso executa a rede para TODAS as entradas, x de uma vez, para que possamos desenhar o gráfico\n",
        "h1 = ReLU(np.matmul(beta_0,np.ones((1,n_data))) + np.matmul(Omega_0,n1_in_mat))\n",
        "n1_out = np.matmul(beta_1,np.ones((1,n_data))) + np.matmul(Omega_1,h1)\n",
        "\n",
        "# Desenhe a rede e verifique se ela se parece com o caso não matricial\n",
        "plot_neural(n1_in, n1_out)"
      ],
      "metadata": {
        "id": "RyiLWlKPPhj_"
      },
      "execution_count": null,
      "outputs": []
    },
    {
      "cell_type": "markdown",
      "source": [
        "Agora vamos alimentar a saída da primeira rede na segunda."
      ],
      "metadata": {
        "id": "r7UFt8bWQGE0"
      }
    },
    {
      "cell_type": "code",
      "source": [
        "# Agora vamos definir alguns parâmetros e executar a segunda rede neural\n",
        "n2_theta_10 =  -0.6 ; n2_theta_11 = -1.0\n",
        "n2_theta_20 =  0.2  ; n2_theta_21 = 1.0\n",
        "n2_theta_30 =  -0.5  ; n2_theta_31 =  1.0\n",
        "n2_phi_0 = 0.5; n2_phi_1 = -1.0; n2_phi_2 = -1.5; n2_phi_3 = 2.0\n",
        "\n",
        "# Defina uma faixa de valores de entrada\n",
        "n2_in = np.arange(-1,1,0.01)\n",
        "\n",
        "# Rodamos a segunda rede neural na saída da primeira rede\n",
        "n2_out, *_ = \\\n",
        "    shallow_1_1_3(n1_out, ReLU, n2_phi_0, n2_phi_1, n2_phi_2, n2_phi_3, n2_theta_10, n2_theta_11, n2_theta_20, n2_theta_21, n2_theta_30, n2_theta_31)\n",
        "# E então plotamos\n",
        "plot_neural(n1_in, n2_out)"
      ],
      "metadata": {
        "id": "CQAsDPwnQHVY"
      },
      "execution_count": null,
      "outputs": []
    },
    {
      "cell_type": "code",
      "source": [
        "beta_0 = np.zeros((3,1))\n",
        "Omega_0 = np.zeros((3,1))\n",
        "beta_1 = np.zeros((3,1))\n",
        "Omega_1 = np.zeros((3,3))\n",
        "beta_2 = np.zeros((1,1))\n",
        "Omega_2 = np.zeros((1,3))\n",
        "\n",
        "# TODO Preencha os valores das matrizes beta e Omega para os parâmetros n1_theta, n1_phi, n2_theta e n2_phi\n",
        "# que definem a composição das duas redes acima (veja eqn 4.5 para Omega1 e beta1, embora em notação diferente)\n",
        "# !!! OBSERVE QUE AS MATRIZES SÃO CONVENCIONALMENTE INDEXADAS COM a_11 NO CANTO SUPERIOR ESQUERDO, MAS NDARRAYS COMEÇAM EM [0,0] ENTÃO TUDO ESTÁ DESLOCADO\n",
        "# Para começar, eu já preenchi alguns:\n",
        "beta_0[0,0] = n1_theta_10\n",
        "Omega_0[0,0] = n1_theta_11\n",
        "\n",
        "# Certifique-se de que a matriz de dados de entrada tenha entradas diferentes em suas colunas\n",
        "n_data = n1_in.size\n",
        "n_dim_in = 1\n",
        "n1_in_mat = np.reshape(n1_in,(n_dim_in,n_data))\n",
        "\n",
        "# Isso executa a rede para TODAS as entradas, x de uma vez, para que possamos desenhar o gráfico (portanto, termo np.ones extra)\n",
        "h1 = ReLU(np.matmul(beta_0,np.ones((1,n_data))) + np.matmul(Omega_0,n1_in_mat))\n",
        "h2 = ReLU(np.matmul(beta_1,np.ones((1,n_data))) + np.matmul(Omega_1,h1))\n",
        "n1_out = np.matmul(beta_2,np.ones((1,n_data))) + np.matmul(Omega_2,h2)\n",
        "\n",
        "# Desenhe a rede e verifique se ela se parece com a versão não matricial\n",
        "plot_neural(n1_in, n1_out)"
      ],
      "metadata": {
        "id": "G1n-Q9AtQUGP"
      },
      "execution_count": null,
      "outputs": []
    },
    {
      "cell_type": "markdown",
      "source": [
        "Agora vamos criar uma rede profunda com 3 camadas ocultas. Ela terá $D_i=4$ entradas, $D_1=5$ neurônios na primeira camada, $D_2=2$ neurônios na segunda camada e $D_3=4$ neurônios na terceira camada, e $D_o = 1$ saída. Consulte a figura 4.6 e as equações 4.15 para orientação.\n"
      ],
      "metadata": {
        "id": "i_I-txYgRXL4"
      }
    },
    {
      "cell_type": "code",
      "source": [
        "# define tamanhos\n",
        "D_i=4; D_1=5; D_2=2; D_3=4; D_o=1\n",
        "# Vamos escolher as entradas e parâmetros dessa rede aleatoriamente usando np.random.normal\n",
        "# Por exemplo, vamos definir a entrada usando\n",
        "n_data = 4;\n",
        "x = np.random.normal(size=(D_i, n_data))\n",
        "# TODO inicialize os parâmetros aleatoriamente com os tamanhos corretos\n",
        "# Substitua as linhas abaixo\n",
        "beta_0 = np.random.normal(size=(1,1))\n",
        "Omega_0 = np.random.normal(size=(1,1))\n",
        "beta_1 = np.random.normal(size=(1,1))\n",
        "Omega_1 = np.random.normal(size=(1,1))\n",
        "beta_2 = np.random.normal(size=(1,1))\n",
        "Omega_2 = np.random.normal(size=(1,1))\n",
        "beta_3 = np.random.normal(size=(1,1))\n",
        "Omega_3 = np.random.normal(size=(1,1))\n",
        "\n",
        "\n",
        "# Se você definir os parâmetros com os tamanhos corretos, o código a seguir roda sem erros\n",
        "h1 = ReLU(np.matmul(beta_0,np.ones((1,n_data))) + np.matmul(Omega_0,x));\n",
        "h2 = ReLU(np.matmul(beta_1,np.ones((1,n_data))) + np.matmul(Omega_1,h1));\n",
        "h3 = ReLU(np.matmul(beta_2,np.ones((1,n_data))) + np.matmul(Omega_2,h2));\n",
        "y = np.matmul(beta_3,np.ones((1,n_data))) + np.matmul(Omega_3,h3)\n",
        "\n",
        "if h1.shape[0] != D_1 or h1.shape[1] != n_data:\n",
        "  print(\"h1 is wrong shape\")\n",
        "if h2.shape[0] != D_2 or h1.shape[1] != n_data:\n",
        "  print(\"h2 is wrong shape\")\n",
        "if h3.shape[0] != D_3 or h1.shape[1] != n_data:\n",
        "  print(\"h3 is wrong shape\")\n",
        "if y.shape[0] != D_o or h1.shape[1] != n_data:\n",
        "  print(\"Output is wrong shape\")\n",
        "\n",
        "# Imprima as entradas e saídas\n",
        "print(\"Pontos de dados de entrada\")\n",
        "print(x)\n",
        "print (\"Pontos de dados de saída\")\n",
        "print(y)"
      ],
      "metadata": {
        "id": "qvzzXe-xRYUp"
      },
      "execution_count": null,
      "outputs": []
    }
  ]
}